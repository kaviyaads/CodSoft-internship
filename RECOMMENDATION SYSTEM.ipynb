{
 "cells": [
  {
   "cell_type": "code",
   "execution_count": 4,
   "id": "9b6668fa",
   "metadata": {},
   "outputs": [
    {
     "name": "stdout",
     "output_type": "stream",
     "text": [
      "Enter your genre preference (Action, Horror, Comedy, or Drama): Horror\n",
      "No Horror movies found in the database.\n"
     ]
    }
   ],
   "source": [
    "class Movie:\n",
    "    def __init__(self, title, genre):\n",
    "        self.title = title\n",
    "        self.genre = genre\n",
    "\n",
    "class MovieRecommendationSystem:\n",
    "    def __init__(self):\n",
    "        self.movies = []\n",
    "\n",
    "    def add_movie(self, title, genre):\n",
    "        movie = Movie(title, genre)\n",
    "        self.movies.append(movie)\n",
    "\n",
    "    def recommend_movies(self, user_genre_preference):\n",
    "        recommended_movies = []\n",
    "\n",
    "        for movie in self.movies:\n",
    "            if movie.genre.lower() == user_genre_preference.lower():\n",
    "                recommended_movies.append(movie)\n",
    "\n",
    "        return recommended_movies\n",
    "\n",
    "if __name__ == \"__main__\":\n",
    "    recommendation_system = MovieRecommendationSystem()\n",
    "\n",
    "    # Action movies\n",
    "    recommendation_system.add_movie(\"Fast and Furious\", \"Action\")\n",
    "    recommendation_system.add_movie(\"Mission Impossible\", \"Action\")\n",
    "    recommendation_system.add_movie(\"The Extraction\", \"Action\")\n",
    "    # ... (rest of the movie additions)\n",
    "\n",
    "    user_preference = input(\"Enter your genre preference (Action, Horror, Comedy, or Drama): \")\n",
    "\n",
    "    recommended_movies = recommendation_system.recommend_movies(user_preference)\n",
    "\n",
    "    if recommended_movies:\n",
    "        print(f\"Recommended Movies for {user_preference} lovers:\")\n",
    "        for movie in recommended_movies:\n",
    "            print(movie.title)\n",
    "    else:\n",
    "        print(f\"No {user_preference} movies found in the database.\")\n"
   ]
  },
  {
   "cell_type": "code",
   "execution_count": null,
   "id": "bfe836ce",
   "metadata": {},
   "outputs": [],
   "source": []
  }
 ],
 "metadata": {
  "kernelspec": {
   "display_name": "Python 3 (ipykernel)",
   "language": "python",
   "name": "python3"
  },
  "language_info": {
   "codemirror_mode": {
    "name": "ipython",
    "version": 3
   },
   "file_extension": ".py",
   "mimetype": "text/x-python",
   "name": "python",
   "nbconvert_exporter": "python",
   "pygments_lexer": "ipython3",
   "version": "3.11.4"
  }
 },
 "nbformat": 4,
 "nbformat_minor": 5
}
